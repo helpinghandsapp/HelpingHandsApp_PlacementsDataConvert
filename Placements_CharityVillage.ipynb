{
 "cells": [
  {
   "cell_type": "markdown",
   "metadata": {},
   "source": [
    "## This notebook is for organizing and converting runresults data from Charity Village website"
   ]
  },
  {
   "cell_type": "code",
   "execution_count": null,
   "metadata": {},
   "outputs": [],
   "source": [
    "#Uncomment the pip line if pandas not already installed\n",
    "\n",
    "#!pip install pandas\n",
    "import pandas as pd\n",
    "import numpy as np"
   ]
  },
  {
   "cell_type": "markdown",
   "metadata": {},
   "source": [
    "### 1. Load csv file "
   ]
  },
  {
   "cell_type": "markdown",
   "metadata": {},
   "source": [
    "#### Manually type in file_name to be converted and output_file_name to be exported. \n",
    "#### If you want the output file to be exported to a directory other than the current one, uncomment and type in the path "
   ]
  },
  {
   "cell_type": "code",
   "execution_count": null,
   "metadata": {},
   "outputs": [],
   "source": [
    "file_name = 'Input the file_name to be converted'\n",
    "output_file_name = 'Input the output_file_name to be exported'\n",
    "df = pd.read_csv(file_name,engine='python')\n",
    "df.head()\n",
    "#path='Uncomment and input path to be exported to'"
   ]
  },
  {
   "cell_type": "code",
   "execution_count": null,
   "metadata": {},
   "outputs": [],
   "source": [
    "df.shape"
   ]
  },
  {
   "cell_type": "markdown",
   "metadata": {},
   "source": [
    "## 2. Select and rename columns for target file"
   ]
  },
  {
   "cell_type": "markdown",
   "metadata": {},
   "source": [
    "#### ! column names with new format needs to be manually added in order to be identified "
   ]
  },
  {
   "cell_type": "code",
   "execution_count": null,
   "metadata": {},
   "outputs": [],
   "source": [
    "column_names=[]\n",
    "\n",
    "#job title\n",
    "if 'position_name' in df:\n",
    "    df.rename(columns = {'position_name':'job_title'}, inplace=True)\n",
    "column_names.append('job_title')\n",
    "\n",
    "#description\n",
    "if 'position_description' in df:\n",
    "    df.rename(columns = {'position_description':'description'}, inplace=True)\n",
    "if 'description' in df:\n",
    "    column_names.append('description')\n",
    "\n",
    "#application_process\n",
    "if 'position_contact' in df:\n",
    "    df.rename(columns = {'position_contact':'application_process'}, inplace=True)\n",
    "elif 'position_details_contact' in df:\n",
    "    df.rename(columns = {'position_details_contact':'application_process'}, inplace=True)\n",
    "if 'application_process' in df:\n",
    "    column_names.append('application_process')\n",
    "\n",
    "#placement_miscellaneous\n",
    "column_names.append('placement_miscellaneous')\n",
    "\n",
    "#position_url\n",
    "if 'positions_url' in df:\n",
    "    df.rename(columns = {'positions_url':'position_url'}, inplace=True)\n",
    "elif 'position_details_url' in df:\n",
    "    df.rename(columns = {'position_details_url':'position_url'}, inplace=True)\n",
    "if 'position_url' in df:\n",
    "    column_names.append('position_url')\n",
    "\n",
    "#name\n",
    "if 'position_org' in df:\n",
    "    df.rename(columns = {'position_org':'name'}, inplace=True)\n",
    "elif 'position_details_org' in df:\n",
    "    df.rename(columns = {'position_details_org':'name'}, inplace=True)\n",
    "if 'name' in df:\n",
    "    column_names.append('name')\n",
    "\n",
    "if 'postal_code' in df:\n",
    "    column_names.append('postal_code')\n",
    "if 'created_at' in df:\n",
    "    column_names.append('created_at')\n",
    "if 'updated_at' in df:\n",
    "    column_names.append('updated_at')\n",
    "if 'expiration_date' in df:\n",
    "    #default: \"2100-07-20\"\n",
    "    column_names.append('expiration_date')\n",
    "if 'organization_id' in df:\n",
    "    column_names.append('organization_id')\n",
    "if 'position_phone' in df:\n",
    "    column_names.append('position_phone')\n",
    "\n",
    "column_names\n"
   ]
  },
  {
   "cell_type": "markdown",
   "metadata": {},
   "source": [
    "## 3. Create new dataframe with modified column names"
   ]
  },
  {
   "cell_type": "markdown",
   "metadata": {},
   "source": [
    "#### placement_miscellaneous columns can be further modified if needed\n"
   ]
  },
  {
   "cell_type": "code",
   "execution_count": null,
   "metadata": {},
   "outputs": [],
   "source": [
    "df['placement_miscellaneous']=df['description']\n",
    "df_placements = df[column_names]  \n",
    "index=0\n",
    "df_placements['position_dateposted'] = np.nan\n",
    "df_placements['position_deadline'] = np.nan\n",
    "df_placements['position_category'] = np.nan\n",
    "df_placements['address'] = np.nan\n",
    "for lines in df['position_post_details']:\n",
    "    if 'EXPIRY' in lines:\n",
    "        line = lines.split('EXPIRY')\n",
    "        if (len(line)==2):\n",
    "            df_placements.loc[index,'position_dateposted'] = line[0]\n",
    "            lines = 'EXPRY' + line[1]\n",
    "    if '2020' in lines:\n",
    "        line = lines.split('2020')\n",
    "        if (len(line)==2):\n",
    "            df_placements.loc[index,'position_deadline'] = line[0] + '2020'\n",
    "            lines = line[1]\n",
    "    if 'Unpaid Volunteer Position' in lines:\n",
    "        line = lines.split('Unpaid Volunteer Position')\n",
    "        if (len(line)==2):\n",
    "            df_placements.loc[index,'address'] = line[0]\n",
    "            df_placements.loc[index,'position_category'] = line[1]\n",
    "    index +=1\n",
    "df_placements['position_postedon']= 'Charity Village'\n",
    "df_placements.head()"
   ]
  },
  {
   "cell_type": "markdown",
   "metadata": {},
   "source": [
    "###       Add skills&categories column"
   ]
  },
  {
   "cell_type": "code",
   "execution_count": null,
   "metadata": {},
   "outputs": [],
   "source": [
    "# add skills and categories column\n",
    "for i in range (12):\n",
    "    if i<6:\n",
    "        index = '{} {}'.format('skills', i+1)\n",
    "        df_placements[index] = np.nan\n",
    "    else:\n",
    "        index = '{} {}'.format('categories', i-5)\n",
    "        df_placements[index] = np.nan\n",
    "\n",
    "# skills and categories update column name\n",
    "df_placements.rename(columns = {'skills 1':'skills','skills 2':'skills','skills 3':'skills',\n",
    "                                'skills 4':'skills','skills 5':'skills','skills 6':'skills',\n",
    "                                'categories 1':'categories','categories 2':'categories',\n",
    "                               'categories 3':'categories','categories 4':'categories',\n",
    "                               'categories 5':'categories','categories 6':'categories'}, inplace=True)\n",
    "df_placements.head()"
   ]
  },
  {
   "cell_type": "markdown",
   "metadata": {},
   "source": [
    "## 4. Export dataframe as a csv file"
   ]
  },
  {
   "cell_type": "markdown",
   "metadata": {},
   "source": [
    "#### Choose to export to current file or to a target file"
   ]
  },
  {
   "cell_type": "code",
   "execution_count": null,
   "metadata": {},
   "outputs": [],
   "source": [
    "# Export to current file:\n",
    "df_placements.to_csv(output_file_name, index=False, escapechar=\"\\r\")\n",
    "\n",
    "# Or to export to a target file, uncomment below:\n",
    "# import os\n",
    "# output_file = os.path.join(path, output_file_name)\n",
    "# df_placements.to_csv(output_file, index=False)"
   ]
  },
  {
   "cell_type": "code",
   "execution_count": null,
   "metadata": {},
   "outputs": [],
   "source": [
    "df_placements.shape"
   ]
  },
  {
   "cell_type": "code",
   "execution_count": null,
   "metadata": {},
   "outputs": [],
   "source": []
  }
 ],
 "metadata": {
  "kernelspec": {
   "display_name": "Python 3",
   "language": "python",
   "name": "python3"
  },
  "language_info": {
   "codemirror_mode": {
    "name": "ipython",
    "version": 3
   },
   "file_extension": ".py",
   "mimetype": "text/x-python",
   "name": "python",
   "nbconvert_exporter": "python",
   "pygments_lexer": "ipython3",
   "version": "3.8.3"
  }
 },
 "nbformat": 4,
 "nbformat_minor": 4
}
