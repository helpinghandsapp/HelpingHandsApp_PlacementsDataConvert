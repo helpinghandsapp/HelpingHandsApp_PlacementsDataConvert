{
 "cells": [
  {
   "cell_type": "markdown",
   "metadata": {},
   "source": [
    "## This notebook is for organizing and converting runresults data from Spark Ontario website"
   ]
  },
  {
   "cell_type": "code",
   "execution_count": 2,
   "metadata": {},
   "outputs": [],
   "source": [
    "#Uncomment the pip line if pandas not already installed\n",
    "\n",
    "#!pip install pandas\n",
    "import pandas as pd\n",
    "import numpy as np"
   ]
  },
  {
   "cell_type": "markdown",
   "metadata": {},
   "source": [
    "### 1. Load csv file "
   ]
  },
  {
   "cell_type": "markdown",
   "metadata": {},
   "source": [
    "#### Manually type in file_name to be converted and output_file_name to be exported. \n",
    "#### If you want the output file to be exported to a directory other than the current one, uncomment and type in the path "
   ]
  },
  {
   "cell_type": "code",
   "execution_count": 59,
   "metadata": {},
   "outputs": [
    {
     "data": {
      "text/html": [
       "<div>\n",
       "<style scoped>\n",
       "    .dataframe tbody tr th:only-of-type {\n",
       "        vertical-align: middle;\n",
       "    }\n",
       "\n",
       "    .dataframe tbody tr th {\n",
       "        vertical-align: top;\n",
       "    }\n",
       "\n",
       "    .dataframe thead th {\n",
       "        text-align: right;\n",
       "    }\n",
       "</style>\n",
       "<table border=\"1\" class=\"dataframe\">\n",
       "  <thead>\n",
       "    <tr style=\"text-align: right;\">\n",
       "      <th></th>\n",
       "      <th>placement_name</th>\n",
       "      <th>placement_url</th>\n",
       "      <th>placement_organization</th>\n",
       "      <th>placement_interests</th>\n",
       "      <th>placement_location</th>\n",
       "      <th>placement_time</th>\n",
       "      <th>placement_description</th>\n",
       "      <th>placement_contact</th>\n",
       "      <th>placement_type</th>\n",
       "    </tr>\n",
       "  </thead>\n",
       "  <tbody>\n",
       "    <tr>\n",
       "      <th>0</th>\n",
       "      <td>Recruiting Volunteers for Therapeutic Riding P...</td>\n",
       "      <td>https://www.sparkontario.ca/opp/recruiting-vol...</td>\n",
       "      <td>Pride Stables / Central Ontario Developmental ...</td>\n",
       "      <td>Disability Support\\nSports &amp; Physical Activiti...</td>\n",
       "      <td>WHERE\\rKitchener, ON</td>\n",
       "      <td>WHEN\\rShort-term</td>\n",
       "      <td>Do you love horses? Love interacting and being...</td>\n",
       "      <td>Pride Stables / Central Ontario Developmental ...</td>\n",
       "      <td>NaN</td>\n",
       "    </tr>\n",
       "    <tr>\n",
       "      <th>1</th>\n",
       "      <td>Fundraiser Campaign Volunteer</td>\n",
       "      <td>https://www.sparkontario.ca/opp/fundraiser-cam...</td>\n",
       "      <td>Salangai En Sangeetham&amp;#039;s Fight for Cancer</td>\n",
       "      <td>Arts, Crafts &amp; Photography\\rEvent Planning &amp; P...</td>\n",
       "      <td>NaN</td>\n",
       "      <td>WHEN\\rShort-term</td>\n",
       "      <td>Earn more than 40 hours towards your high scho...</td>\n",
       "      <td>Salangai En Sangeetham&amp;#039;s Fight for Cancer...</td>\n",
       "      <td>Virtual Opportunity</td>\n",
       "    </tr>\n",
       "    <tr>\n",
       "      <th>2</th>\n",
       "      <td>Virtual Community Outreach Volunteers</td>\n",
       "      <td>https://www.sparkontario.ca/opp/virtual-commun...</td>\n",
       "      <td>Citizens With Disabilities- Ontario</td>\n",
       "      <td>COVID-19 Support\\rDisability Support\\rWorking ...</td>\n",
       "      <td>NaN</td>\n",
       "      <td>WHEN\\rShort-term</td>\n",
       "      <td>CWDO is seeking Virtual Community Outreach vol...</td>\n",
       "      <td>Citizens With Disabilities- Ontario\\rcwdo.org\\...</td>\n",
       "      <td>Virtual Opportunity</td>\n",
       "    </tr>\n",
       "    <tr>\n",
       "      <th>3</th>\n",
       "      <td>Property Management Teams</td>\n",
       "      <td>https://www.sparkontario.ca/opp/property-manag...</td>\n",
       "      <td>The Couchiching Conservancy</td>\n",
       "      <td>Environment &amp; Nature</td>\n",
       "      <td>WHERE\\rOrillia, ON</td>\n",
       "      <td>WHEN\\rOngoing</td>\n",
       "      <td>As with any property, maintenance is required ...</td>\n",
       "      <td>The Couchiching Conservancy\\rwww.couchichingco...</td>\n",
       "      <td>NaN</td>\n",
       "    </tr>\n",
       "    <tr>\n",
       "      <th>4</th>\n",
       "      <td>Goodwill Ambassador</td>\n",
       "      <td>https://www.sparkontario.ca/opp/goodwill-ambas...</td>\n",
       "      <td>Goodwill Industries of TECNO</td>\n",
       "      <td>Retail &amp; Sales</td>\n",
       "      <td>WHERE\\rNewmarket, ON</td>\n",
       "      <td>WHEN\\rOngoing</td>\n",
       "      <td>The volunteer will assist Goodwill by providin...</td>\n",
       "      <td>Goodwill Industries of TECNO\\rwww.goodwill.on....</td>\n",
       "      <td>NaN</td>\n",
       "    </tr>\n",
       "  </tbody>\n",
       "</table>\n",
       "</div>"
      ],
      "text/plain": [
       "                                      placement_name  \\\n",
       "0  Recruiting Volunteers for Therapeutic Riding P...   \n",
       "1                      Fundraiser Campaign Volunteer   \n",
       "2              Virtual Community Outreach Volunteers   \n",
       "3                          Property Management Teams   \n",
       "4                                Goodwill Ambassador   \n",
       "\n",
       "                                       placement_url  \\\n",
       "0  https://www.sparkontario.ca/opp/recruiting-vol...   \n",
       "1  https://www.sparkontario.ca/opp/fundraiser-cam...   \n",
       "2  https://www.sparkontario.ca/opp/virtual-commun...   \n",
       "3  https://www.sparkontario.ca/opp/property-manag...   \n",
       "4  https://www.sparkontario.ca/opp/goodwill-ambas...   \n",
       "\n",
       "                              placement_organization  \\\n",
       "0  Pride Stables / Central Ontario Developmental ...   \n",
       "1     Salangai En Sangeetham&#039;s Fight for Cancer   \n",
       "2                Citizens With Disabilities- Ontario   \n",
       "3                        The Couchiching Conservancy   \n",
       "4                       Goodwill Industries of TECNO   \n",
       "\n",
       "                                 placement_interests    placement_location  \\\n",
       "0  Disability Support\\nSports & Physical Activiti...  WHERE\\rKitchener, ON   \n",
       "1  Arts, Crafts & Photography\\rEvent Planning & P...                   NaN   \n",
       "2  COVID-19 Support\\rDisability Support\\rWorking ...                   NaN   \n",
       "3                               Environment & Nature    WHERE\\rOrillia, ON   \n",
       "4                                     Retail & Sales  WHERE\\rNewmarket, ON   \n",
       "\n",
       "     placement_time                              placement_description  \\\n",
       "0  WHEN\\rShort-term  Do you love horses? Love interacting and being...   \n",
       "1  WHEN\\rShort-term  Earn more than 40 hours towards your high scho...   \n",
       "2  WHEN\\rShort-term  CWDO is seeking Virtual Community Outreach vol...   \n",
       "3     WHEN\\rOngoing  As with any property, maintenance is required ...   \n",
       "4     WHEN\\rOngoing  The volunteer will assist Goodwill by providin...   \n",
       "\n",
       "                                   placement_contact       placement_type  \n",
       "0  Pride Stables / Central Ontario Developmental ...                  NaN  \n",
       "1  Salangai En Sangeetham&#039;s Fight for Cancer...  Virtual Opportunity  \n",
       "2  Citizens With Disabilities- Ontario\\rcwdo.org\\...  Virtual Opportunity  \n",
       "3  The Couchiching Conservancy\\rwww.couchichingco...                  NaN  \n",
       "4  Goodwill Industries of TECNO\\rwww.goodwill.on....                  NaN  "
      ]
     },
     "execution_count": 59,
     "metadata": {},
     "output_type": "execute_result"
    }
   ],
   "source": [
    "file_name = 'Input the file_name to be converted'\n",
    "output_file_name = 'Input the output_file_name to be exported'\n",
    "df = pd.read_csv(file_name,engine='python')\n",
    "df.head()\n",
    "#path='Uncomment and input path to be exported to'"
   ]
  },
  {
   "cell_type": "code",
   "execution_count": null,
   "metadata": {},
   "outputs": [],
   "source": [
    "df.shape"
   ]
  },
  {
   "cell_type": "markdown",
   "metadata": {},
   "source": [
    "## 2. Select and rename columns for target file"
   ]
  },
  {
   "cell_type": "markdown",
   "metadata": {},
   "source": [
    "#### ! column names with new format needs to be manually added in order to be identified "
   ]
  },
  {
   "cell_type": "code",
   "execution_count": 60,
   "metadata": {},
   "outputs": [
    {
     "data": {
      "text/plain": [
       "['job_title',\n",
       " 'description',\n",
       " 'application_process',\n",
       " 'placement_miscellaneous',\n",
       " 'position_url',\n",
       " 'position_category',\n",
       " 'name']"
      ]
     },
     "execution_count": 60,
     "metadata": {},
     "output_type": "execute_result"
    }
   ],
   "source": [
    "column_names=[]\n",
    "\n",
    "#job title\n",
    "if 'placement_name' in df:\n",
    "    df.rename(columns = {'placement_name':'job_title'}, inplace=True)\n",
    "column_names.append('job_title')\n",
    "\n",
    "#description\n",
    "if 'placement_description' in df:\n",
    "    df.rename(columns = {'placement_description':'description'}, inplace=True)\n",
    "    column_names.append('description')\n",
    "\n",
    "#application_process\n",
    "if 'placement_contact' in df:\n",
    "    df.rename(columns = {'placement_contact':'application_process'}, inplace=True)\n",
    "if 'application_process' in df:\n",
    "    column_names.append('application_process')\n",
    "\n",
    "#placement_miscellaneous\n",
    "column_names.append('placement_miscellaneous')\n",
    "\n",
    "#position_url\n",
    "if 'placement_url' in df:\n",
    "    df.rename(columns = {'placement_url':'position_url'}, inplace=True)\n",
    "if 'position_url' in df:\n",
    "    column_names.append('position_url')\n",
    "\n",
    "#####################################################################################\n",
    "#position_category\n",
    "if 'placement_interests' in df:\n",
    "    df.rename(columns = {'placement_interests':'position_category'}, inplace=True)\n",
    "if 'position_category' in df:\n",
    "    column_names.append('position_category')    \n",
    "    \n",
    "#name\n",
    "if 'placement_organization' in df:\n",
    "    df.rename(columns = {'placement_organization':'name'}, inplace=True)\n",
    "elif 'placement_org' in df:\n",
    "    df.rename(columns = {'placement_org':'name'}, inplace=True)\n",
    "if 'name' in df:\n",
    "    column_names.append('name')\n",
    "    \n",
    "#position_dateposted\n",
    "if 'placement_date_posted' in df:\n",
    "    df.rename(columns = {'placement_date_posted':'position_dateposted'}, inplace=True)\n",
    "if 'position_dateposted' in df:\n",
    "    column_names.append('position_dateposted')\n",
    "    \n",
    "#position_deadline\n",
    "if 'placement_deadline' in df:\n",
    "    df.rename(columns = {'placement_deadline':'placement_deadline'}, inplace=True)\n",
    "if 'position_deadline' in df:\n",
    "    column_names.append('position_deadline')\n",
    "\n",
    "#address\n",
    "if 'placement_address' in df:\n",
    "    df.rename(columns = {'placement_address':'address'}, inplace=True)\n",
    "if 'address' in df:\n",
    "    column_names.append('address')\n",
    "    \n",
    "if 'postal_code' in df:\n",
    "    column_names.append('postal_code')\n",
    "if 'created_at' in df:\n",
    "    column_names.append('created_at')\n",
    "if 'updated_at' in df:\n",
    "    column_names.append('updated_at')\n",
    "if 'expiration_date' in df:\n",
    "    #default: \"2100-07-20\"\n",
    "    column_names.append('expiration_date')\n",
    "if 'organization_id' in df:\n",
    "    column_names.append('organization_id')\n",
    "if 'position_phone' in df:\n",
    "    column_names.append('position_phone')\n",
    "\n",
    "column_names"
   ]
  },
  {
   "cell_type": "markdown",
   "metadata": {},
   "source": [
    "## 3. Create new dataframe with modified column names"
   ]
  },
  {
   "cell_type": "markdown",
   "metadata": {},
   "source": [
    "#### placement_miscellaneous columns can be further modified if needed\n"
   ]
  },
  {
   "cell_type": "code",
   "execution_count": null,
   "metadata": {},
   "outputs": [],
   "source": [
    "df['placement_miscellaneous']=df['description']\n",
    "df_placements = df[column_names]\n",
    "\n",
    "index=0\n",
    "df_placements['city'] = np.nan\n",
    "for address in df['placement_location']:       \n",
    "    if not address is np.nan: \n",
    "        line=address.split('\\r')\n",
    "        city=line[1].split(',')\n",
    "        df_placements.loc[index,'city'] = city[0]\n",
    "        index += 1\n",
    "\n",
    "df_placements['province'] = 'ON'\n",
    "df_placements['position_postedon']= 'Spark Ontario'        \n",
    "df_placements.head()"
   ]
  },
  {
   "cell_type": "markdown",
   "metadata": {},
   "source": [
    "###       Add skills&categories column"
   ]
  },
  {
   "cell_type": "code",
   "execution_count": null,
   "metadata": {},
   "outputs": [],
   "source": [
    "# add skills and categories column\n",
    "for i in range (12):\n",
    "    if i<6:\n",
    "        index = '{} {}'.format('skills', i+1)\n",
    "        df_placements[index] = np.nan\n",
    "    else:\n",
    "        index = '{} {}'.format('categories', i-5)\n",
    "        df_placements[index] = np.nan\n",
    "\n",
    "# skills and categories update column name\n",
    "df_placements.rename(columns = {'skills 1':'skills','skills 2':'skills','skills 3':'skills',\n",
    "                                'skills 4':'skills','skills 5':'skills','skills 6':'skills',\n",
    "                                'categories 1':'categories','categories 2':'categories',\n",
    "                               'categories 3':'categories','categories 4':'categories',\n",
    "                               'categories 5':'categories','categories 6':'categories'}, inplace=True)\n",
    "df_placements.head()"
   ]
  },
  {
   "cell_type": "markdown",
   "metadata": {},
   "source": [
    "## 4. Export dataframe as a csv file"
   ]
  },
  {
   "cell_type": "markdown",
   "metadata": {},
   "source": [
    "#### Choose to export to current file or to a target file"
   ]
  },
  {
   "cell_type": "code",
   "execution_count": 64,
   "metadata": {},
   "outputs": [],
   "source": [
    "# Export to current file:\n",
    "df_placements.to_csv(output_file_name, index=False, escapechar=\"\\r\")\n",
    "\n",
    "# Or to export to a target file, uncomment below:\n",
    "# import os\n",
    "# output_file = os.path.join(path, output_file_name)\n",
    "# df_placements.to_csv(output_file, index=False)"
   ]
  },
  {
   "cell_type": "code",
   "execution_count": null,
   "metadata": {},
   "outputs": [],
   "source": []
  }
 ],
 "metadata": {
  "kernelspec": {
   "display_name": "Python 3",
   "language": "python",
   "name": "python3"
  },
  "language_info": {
   "codemirror_mode": {
    "name": "ipython",
    "version": 3
   },
   "file_extension": ".py",
   "mimetype": "text/x-python",
   "name": "python",
   "nbconvert_exporter": "python",
   "pygments_lexer": "ipython3",
   "version": "3.8.3"
  }
 },
 "nbformat": 4,
 "nbformat_minor": 4
}
