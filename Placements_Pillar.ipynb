{
 "cells": [
  {
   "cell_type": "markdown",
   "metadata": {},
   "source": [
    "## This notebook is for organizing and converting runresults data from Pillar Nonprofit Network website"
   ]
  },
  {
   "cell_type": "code",
   "execution_count": 4,
   "metadata": {},
   "outputs": [],
   "source": [
    "#Uncomment the pip line if pandas not already installed\n",
    "\n",
    "#!pip install pandas\n",
    "import pandas as pd\n",
    "import numpy as np"
   ]
  },
  {
   "cell_type": "markdown",
   "metadata": {},
   "source": [
    "### 1. Load csv file "
   ]
  },
  {
   "cell_type": "markdown",
   "metadata": {},
   "source": [
    "#### Manually type in file_name to be converted and output_file_name to be exported. \n",
    "#### If you want the output file to be exported to a directory other than the current one, uncomment and type in the path "
   ]
  },
  {
   "cell_type": "code",
   "execution_count": 20,
   "metadata": {},
   "outputs": [
    {
     "data": {
      "text/html": [
       "<div>\n",
       "<style scoped>\n",
       "    .dataframe tbody tr th:only-of-type {\n",
       "        vertical-align: middle;\n",
       "    }\n",
       "\n",
       "    .dataframe tbody tr th {\n",
       "        vertical-align: top;\n",
       "    }\n",
       "\n",
       "    .dataframe thead th {\n",
       "        text-align: right;\n",
       "    }\n",
       "</style>\n",
       "<table border=\"1\" class=\"dataframe\">\n",
       "  <thead>\n",
       "    <tr style=\"text-align: right;\">\n",
       "      <th></th>\n",
       "      <th>positions_name</th>\n",
       "      <th>positions_url</th>\n",
       "      <th>positions_org</th>\n",
       "      <th>positions_date_posted</th>\n",
       "      <th>positions_logo</th>\n",
       "      <th>positions_location</th>\n",
       "      <th>positions_description</th>\n",
       "      <th>positions_deadline</th>\n",
       "      <th>positions_skills</th>\n",
       "      <th>positions_contact_name</th>\n",
       "      <th>positions_contact_phone</th>\n",
       "      <th>positions_contact_email</th>\n",
       "      <th>positions_time_commitment</th>\n",
       "      <th>positions_hours</th>\n",
       "    </tr>\n",
       "  </thead>\n",
       "  <tbody>\n",
       "    <tr>\n",
       "      <th>0</th>\n",
       "      <td>Children's Health Foundation Youth Philanthrop...</td>\n",
       "      <td>https://pillarnonprofit.ca/volunteer/childrens...</td>\n",
       "      <td>Children's Health Foundation</td>\n",
       "      <td>20-Aug-20</td>\n",
       "      <td>http://www.pillarnonprofit.ca/civicrm/contact/...</td>\n",
       "      <td>345 Westminster Ave, London, Ontario</td>\n",
       "      <td>Are you a young person, 14-24 years of age, wi...</td>\n",
       "      <td>Wednesday, September 16, 2020</td>\n",
       "      <td>Have the ability to work well in a team enviro...</td>\n",
       "      <td>Ashley Thorne</td>\n",
       "      <td>+1(548) 388-1416</td>\n",
       "      <td>ypg@childhealth.ca</td>\n",
       "      <td>Long-Term (6+ months)</td>\n",
       "      <td>1-2 or 5-10 hours per month</td>\n",
       "    </tr>\n",
       "  </tbody>\n",
       "</table>\n",
       "</div>"
      ],
      "text/plain": [
       "                                      positions_name  \\\n",
       "0  Children's Health Foundation Youth Philanthrop...   \n",
       "\n",
       "                                       positions_url  \\\n",
       "0  https://pillarnonprofit.ca/volunteer/childrens...   \n",
       "\n",
       "                  positions_org positions_date_posted  \\\n",
       "0  Children's Health Foundation             20-Aug-20   \n",
       "\n",
       "                                      positions_logo  \\\n",
       "0  http://www.pillarnonprofit.ca/civicrm/contact/...   \n",
       "\n",
       "                     positions_location  \\\n",
       "0  345 Westminster Ave, London, Ontario   \n",
       "\n",
       "                               positions_description  \\\n",
       "0  Are you a young person, 14-24 years of age, wi...   \n",
       "\n",
       "              positions_deadline  \\\n",
       "0  Wednesday, September 16, 2020   \n",
       "\n",
       "                                    positions_skills positions_contact_name  \\\n",
       "0  Have the ability to work well in a team enviro...          Ashley Thorne   \n",
       "\n",
       "  positions_contact_phone positions_contact_email positions_time_commitment  \\\n",
       "0        +1(548) 388-1416      ypg@childhealth.ca     Long-Term (6+ months)   \n",
       "\n",
       "               positions_hours  \n",
       "0  1-2 or 5-10 hours per month  "
      ]
     },
     "execution_count": 20,
     "metadata": {},
     "output_type": "execute_result"
    }
   ],
   "source": [
    "file_name = 'Input the file_name to be converted'\n",
    "output_file_name = 'Input the output_file_name to be exported'\n",
    "\n",
    "df = pd.read_csv('runresults_200902_pillar.csv',engine='python')\n",
    "#df = pd.read_csv(file_name,engine='python')\n",
    "df.head()\n",
    "#path='Uncomment and input path to be exported to'"
   ]
  },
  {
   "cell_type": "code",
   "execution_count": null,
   "metadata": {},
   "outputs": [],
   "source": [
    "df.shape"
   ]
  },
  {
   "cell_type": "markdown",
   "metadata": {},
   "source": [
    "## 2. Select and rename columns for target file"
   ]
  },
  {
   "cell_type": "markdown",
   "metadata": {},
   "source": [
    "#### ! column names with new format needs to be manually added in order to be identified "
   ]
  },
  {
   "cell_type": "code",
   "execution_count": 21,
   "metadata": {},
   "outputs": [
    {
     "data": {
      "text/plain": [
       "['job_title',\n",
       " 'description',\n",
       " 'application_process',\n",
       " 'placement_miscellaneous',\n",
       " 'position_url',\n",
       " 'name',\n",
       " 'position_dateposted',\n",
       " 'position_deadline',\n",
       " 'position_skills',\n",
       " 'address']"
      ]
     },
     "execution_count": 21,
     "metadata": {},
     "output_type": "execute_result"
    }
   ],
   "source": [
    "column_names=[]\n",
    "\n",
    "#job title\n",
    "if 'position_name' in df:\n",
    "    df.rename(columns = {'position_name':'job_title'}, inplace=True)\n",
    "elif 'positions_name' in df:\n",
    "    df.rename(columns = {'positions_name':'job_title'}, inplace=True)\n",
    "\n",
    "column_names.append('job_title')\n",
    "\n",
    "#description\n",
    "if 'position_description' in df:\n",
    "    df.rename(columns = {'position_description':'description'}, inplace=True)\n",
    "elif 'positions_description' in df:\n",
    "    df.rename(columns = {'positions_description':'description'}, inplace=True)\n",
    "if 'description' in df:\n",
    "    column_names.append('description')\n",
    "\n",
    "#application_process\n",
    "column_names.append('application_process')\n",
    "\n",
    "#placement_miscellaneous\n",
    "column_names.append('placement_miscellaneous')\n",
    "\n",
    "#position_url\n",
    "if 'positions_url' in df:\n",
    "    df.rename(columns = {'positions_url':'position_url'}, inplace=True)\n",
    "if 'position_url' in df:\n",
    "    column_names.append('position_url')\n",
    "\n",
    "#####################################################################################\n",
    "#position_category\n",
    "if 'positions_category' in df:\n",
    "    df.rename(columns = {'positions_category':'position_category'}, inplace=True)\n",
    "elif 'position_interests' in df:\n",
    "    df.rename(columns = {'position_interests':'position_category'}, inplace=True)\n",
    "elif 'position_areas_of_interest' in df:\n",
    "    df.rename(columns = {'position_areas_of_interest':'position_category'}, inplace=True)\n",
    "if 'position_category' in df:\n",
    "    column_names.append('position_category')    \n",
    "    \n",
    "#name\n",
    "if 'position_org' in df:\n",
    "    df.rename(columns = {'position_org':'name'}, inplace=True)\n",
    "elif 'positions_org' in df:\n",
    "    df.rename(columns = {'positions_org':'name'}, inplace=True)\n",
    "if 'name' in df:\n",
    "    column_names.append('name')\n",
    "    \n",
    "#position_dateposted\n",
    "if 'positions_date_posted' in df:\n",
    "    df.rename(columns = {'positions_date_posted':'position_dateposted'}, inplace=True)\n",
    "elif 'positions_dateposted' in df:\n",
    "    df.rename(columns = {'positions_dateposted':'position_dateposted'}, inplace=True)\n",
    "if 'position_dateposted' in df:\n",
    "    column_names.append('position_dateposted')\n",
    "    \n",
    "#position_deadline\n",
    "if 'positions_deadline' in df:\n",
    "    df.rename(columns = {'positions_deadline':'position_deadline'}, inplace=True)\n",
    "if 'position_deadline' in df:\n",
    "    column_names.append('position_deadline')\n",
    "\n",
    "#position_skills\n",
    "if 'positions_skills' in df:\n",
    "    df.rename(columns = {'positions_skills':'position_skills'}, inplace=True)\n",
    "    column_names.append('position_skills')\n",
    "#address\n",
    "if 'positions_location' in df:\n",
    "    df.rename(columns = {'positions_location':'address'}, inplace=True)\n",
    "if 'address' in df:\n",
    "    column_names.append('address')\n",
    "    \n",
    "if 'postal_code' in df:\n",
    "    column_names.append('postal_code')\n",
    "if 'created_at' in df:\n",
    "    column_names.append('created_at')\n",
    "if 'updated_at' in df:\n",
    "    column_names.append('updated_at')\n",
    "if 'expiration_date' in df:\n",
    "    #default: \"2100-07-20\"\n",
    "    column_names.append('expiration_date')\n",
    "if 'organization_id' in df:\n",
    "    column_names.append('organization_id')\n",
    "if 'position_phone' in df:\n",
    "    column_names.append('position_phone')\n",
    "\n",
    "column_names"
   ]
  },
  {
   "cell_type": "markdown",
   "metadata": {},
   "source": [
    "## 3. Create new dataframe with modified column names"
   ]
  },
  {
   "cell_type": "markdown",
   "metadata": {},
   "source": [
    "#### placement_miscellaneous columns can be further modified if needed\n"
   ]
  },
  {
   "cell_type": "code",
   "execution_count": null,
   "metadata": {},
   "outputs": [],
   "source": [
    "df['placement_miscellaneous']=df['description']\n",
    "df['application_process'] = (df['positions_contact_name'].fillna('')+ '  '+\n",
    "                             df['positions_contact_phone'].fillna('') + '  ' +\n",
    "                             df['positions_contact_email'].fillna(''))\n",
    "df_placements = df[column_names]\n",
    "\n",
    "index=0\n",
    "df_placements['city'] = np.nan\n",
    "for address in df['address']:       \n",
    "    if not address is np.nan: \n",
    "        line=address.split(',')\n",
    "        df_placements.loc[index,'city'] = line[-2]\n",
    "        index += 1\n",
    "\n",
    "df_placements['province'] = 'ON'\n",
    "df_placements['position_postedon']= 'Pillar Nonprofit'        \n",
    "df_placements.head()"
   ]
  },
  {
   "cell_type": "markdown",
   "metadata": {},
   "source": [
    "###       Add skills&categories column"
   ]
  },
  {
   "cell_type": "code",
   "execution_count": null,
   "metadata": {},
   "outputs": [],
   "source": [
    "# add skills and categories column\n",
    "for i in range (12):\n",
    "    if i<6:\n",
    "        index = '{} {}'.format('skills', i+1)\n",
    "        df_placements[index] = np.nan\n",
    "    else:\n",
    "        index = '{} {}'.format('categories', i-5)\n",
    "        df_placements[index] = np.nan\n",
    "\n",
    "# skills and categories update column name\n",
    "df_placements.rename(columns = {'skills 1':'skills','skills 2':'skills','skills 3':'skills',\n",
    "                                'skills 4':'skills','skills 5':'skills','skills 6':'skills',\n",
    "                                'categories 1':'categories','categories 2':'categories',\n",
    "                               'categories 3':'categories','categories 4':'categories',\n",
    "                               'categories 5':'categories','categories 6':'categories'}, inplace=True)\n",
    "df_placements.head()"
   ]
  },
  {
   "cell_type": "markdown",
   "metadata": {},
   "source": [
    "## 4. Export dataframe as a csv file"
   ]
  },
  {
   "cell_type": "markdown",
   "metadata": {},
   "source": [
    "#### Choose to export to current file or to a target file"
   ]
  },
  {
   "cell_type": "code",
   "execution_count": 24,
   "metadata": {},
   "outputs": [],
   "source": [
    "# Export to current file:\n",
    "df_placements.to_csv(output_file_name, index=False, escapechar=\"\\r\")\n",
    "\n",
    "# Or to export to a target file, uncomment below:\n",
    "# import os\n",
    "# output_file = os.path.join(path, output_file_name)\n",
    "# df_placements.to_csv(output_file, index=False)"
   ]
  },
  {
   "cell_type": "code",
   "execution_count": 19,
   "metadata": {},
   "outputs": [
    {
     "data": {
      "text/html": [
       "<div>\n",
       "<style scoped>\n",
       "    .dataframe tbody tr th:only-of-type {\n",
       "        vertical-align: middle;\n",
       "    }\n",
       "\n",
       "    .dataframe tbody tr th {\n",
       "        vertical-align: top;\n",
       "    }\n",
       "\n",
       "    .dataframe thead th {\n",
       "        text-align: right;\n",
       "    }\n",
       "</style>\n",
       "<table border=\"1\" class=\"dataframe\">\n",
       "  <thead>\n",
       "    <tr style=\"text-align: right;\">\n",
       "      <th></th>\n",
       "      <th>job_title</th>\n",
       "      <th>description</th>\n",
       "      <th>application_process</th>\n",
       "      <th>placement_miscellaneous</th>\n",
       "      <th>position_url</th>\n",
       "      <th>name</th>\n",
       "      <th>position_dateposted</th>\n",
       "      <th>position_deadline</th>\n",
       "      <th>position_skills</th>\n",
       "      <th>address</th>\n",
       "      <th>city</th>\n",
       "    </tr>\n",
       "  </thead>\n",
       "  <tbody>\n",
       "    <tr>\n",
       "      <th>0</th>\n",
       "      <td>Children's Health Foundation Youth Philanthrop...</td>\n",
       "      <td>Are you a young person, 14-24 years of age, wi...</td>\n",
       "      <td>Ashley Thorne  +1(548) 388-1416  ypg@childheal...</td>\n",
       "      <td>Are you a young person, 14-24 years of age, wi...</td>\n",
       "      <td>https://pillarnonprofit.ca/volunteer/childrens...</td>\n",
       "      <td>Children's Health Foundation</td>\n",
       "      <td>20-Aug-20</td>\n",
       "      <td>Wednesday, September 16, 2020</td>\n",
       "      <td>Have the ability to work well in a team enviro...</td>\n",
       "      <td>345 Westminster Ave, London, Ontario</td>\n",
       "      <td>London</td>\n",
       "    </tr>\n",
       "  </tbody>\n",
       "</table>\n",
       "</div>"
      ],
      "text/plain": [
       "                                           job_title  \\\n",
       "0  Children's Health Foundation Youth Philanthrop...   \n",
       "\n",
       "                                         description  \\\n",
       "0  Are you a young person, 14-24 years of age, wi...   \n",
       "\n",
       "                                 application_process  \\\n",
       "0  Ashley Thorne  +1(548) 388-1416  ypg@childheal...   \n",
       "\n",
       "                             placement_miscellaneous  \\\n",
       "0  Are you a young person, 14-24 years of age, wi...   \n",
       "\n",
       "                                        position_url  \\\n",
       "0  https://pillarnonprofit.ca/volunteer/childrens...   \n",
       "\n",
       "                           name position_dateposted  \\\n",
       "0  Children's Health Foundation           20-Aug-20   \n",
       "\n",
       "               position_deadline  \\\n",
       "0  Wednesday, September 16, 2020   \n",
       "\n",
       "                                     position_skills  \\\n",
       "0  Have the ability to work well in a team enviro...   \n",
       "\n",
       "                                address     city  \n",
       "0  345 Westminster Ave, London, Ontario   London  "
      ]
     },
     "execution_count": 19,
     "metadata": {},
     "output_type": "execute_result"
    }
   ],
   "source": [
    "df_placements.head()"
   ]
  },
  {
   "cell_type": "code",
   "execution_count": null,
   "metadata": {},
   "outputs": [],
   "source": []
  }
 ],
 "metadata": {
  "kernelspec": {
   "display_name": "Python 3",
   "language": "python",
   "name": "python3"
  },
  "language_info": {
   "codemirror_mode": {
    "name": "ipython",
    "version": 3
   },
   "file_extension": ".py",
   "mimetype": "text/x-python",
   "name": "python",
   "nbconvert_exporter": "python",
   "pygments_lexer": "ipython3",
   "version": "3.8.3"
  }
 },
 "nbformat": 4,
 "nbformat_minor": 4
}
